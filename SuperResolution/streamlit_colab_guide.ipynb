{
  "cells": [
    {
      "cell_type": "code",
      "execution_count": 1,
      "metadata": {
        "colab": {
          "base_uri": "https://localhost:8080/"
        },
        "id": "6csSpjQUpbHI",
        "outputId": "721b1997-3c4c-4ee0-a8b1-c33425f586ba"
      },
      "outputs": [
        {
          "name": "stdout",
          "output_type": "stream",
          "text": [
            "1.15.0\n",
            "1.1.0\n"
          ]
        }
      ],
      "source": [
        "import tensorflow as tf\n",
        "import scipy\n",
        "print(tf.__version__)\n",
        "print(scipy.__version__)"
      ]
    },
    {
      "cell_type": "code",
      "execution_count": 1,
      "metadata": {
        "id": "DQZdf4I8qGKx"
      },
      "outputs": [],
      "source": [
        "!pip install timm\n",
        "!pip install -q pyngrok\n",
        "!pip install -q scipy==1.1.0\n",
        "!pip install -q tensorflow==1.15.0"
      ]
    },
    {
      "cell_type": "code",
      "execution_count": 2,
      "metadata": {
        "id": "qwUtS10xhdVU"
      },
      "outputs": [],
      "source": [
        "!pip install -q streamlit"
      ]
    },
    {
      "cell_type": "code",
      "execution_count": 4,
      "metadata": {
        "colab": {
          "base_uri": "https://localhost:8080/"
        },
        "id": "7Fo0Pxkzh6Vy",
        "outputId": "912b414e-6c9e-47ee-c86c-748a364e0895"
      },
      "outputs": [
        {
          "name": "stdout",
          "output_type": "stream",
          "text": [
            "Archive:  ngrok-stable-linux-amd64.zip\n",
            "replace ngrok? [y]es, [n]o, [A]ll, [N]one, [r]ename: n\n"
          ]
        }
      ],
      "source": [
        "!wget https://bin.equinox.io/c/4VmDzA7iaHb/ngrok-stable-linux-amd64.zip\n",
        "!unzip ngrok-stable-linux-amd64.zip"
      ]
    },
    {
      "cell_type": "code",
      "execution_count": 18,
      "metadata": {
        "colab": {
          "base_uri": "https://localhost:8080/"
        },
        "id": "uIPYQBmr1VZc",
        "outputId": "25eb6c94-5cb2-432d-be35-7975bad841d8"
      },
      "outputs": [
        {
          "name": "stdout",
          "output_type": "stream",
          "text": [
            "/bin/bash: SRN-Deblur/checkpoints/download_model.sh: Permission denied\n"
          ]
        }
      ],
      "source": [
        "!git clone https://github.com/JingyunLiang/SwinIR.git\n",
        "!git clone https://github.com/jiangsutx/SRN-Deblur.git"
      ]
    },
    {
      "cell_type": "code",
      "execution_count": 22,
      "metadata": {
        "colab": {
          "base_uri": "https://localhost:8080/"
        },
        "id": "eGJLNV3V2CqW",
        "outputId": "3db7d90f-8edd-4925-ad04-2cf4b7284123"
      },
      "outputs": [
        {
          "name": "stdout",
          "output_type": "stream",
          "text": [
            "Archive:  srndeblur_models.zip\n",
            "   creating: color/\n",
            "  inflating: color/deblur.model-523000.data-00000-of-00001  \n",
            "  inflating: color/deblur.model-523000.index  \n",
            "  inflating: color/deblur.model-523000.meta  \n",
            "   creating: gray/\n",
            "  inflating: gray/deblur.model-523000.data-00000-of-00001  \n",
            "  inflating: gray/deblur.model-523000.index  \n",
            "  inflating: gray/deblur.model-523000.meta  \n",
            "   creating: lstm/\n",
            "  inflating: lstm/deblur.model-523000.data-00000-of-00001  \n",
            "  inflating: lstm/deblur.model-523000.index  \n",
            "  inflating: lstm/deblur.model-523000.meta  \n"
          ]
        }
      ],
      "source": [
        "!wget https://github.com/JingyunLiang/SwinIR/releases/download/v0.0/003_realSR_BSRGAN_DFO_s64w8_SwinIR-M_x4_GAN.pth -P experiments/pretrained_models\n",
        "!wget http://www.xtao.website/shared_url/srndeblur_models.zip\n",
        "!unzip srndeblur_models.zip"
      ]
    },
    {
      "cell_type": "code",
      "execution_count": 3,
      "metadata": {
        "colab": {
          "base_uri": "https://localhost:8080/"
        },
        "id": "9uvfQMuZjGY1",
        "outputId": "8c2485bb-f7b7-42d7-88b6-30c7834580a2"
      },
      "outputs": [
        {
          "name": "stdout",
          "output_type": "stream",
          "text": [
            "Authtoken saved to configuration file: /root/.ngrok2/ngrok.yml\n"
          ]
        }
      ],
      "source": [
        "! chmod 755 ./drive/MyDrive/streamlit/ngrok\n",
        "! ./drive/MyDrive/streamlit/ngrok authtoken 1wqMihP9nrwm6LcOsBSIxPrPNty_6g2QUdWnXoRQqcU7QsupL\n",
        "#! ngrok authtoken 1wqMihP9nrwm6LcOsBSIxPrPNty_6g2QUdWnXoRQqcU7QsupL"
      ]
    },
    {
      "cell_type": "code",
      "execution_count": 4,
      "metadata": {
        "id": "CW1_L0tvjmIx"
      },
      "outputs": [],
      "source": [
        "from pyngrok import ngrok\n",
        "!streamlit run ./drive/MyDrive/streamlit/app.py&>/dev/null&\n",
        "#!streamlit run app.py&>/dev/null&"
      ]
    },
    {
      "cell_type": "code",
      "execution_count": 5,
      "metadata": {
        "colab": {
          "base_uri": "https://localhost:8080/"
        },
        "id": "4qsu1oImj3d4",
        "outputId": "9c795964-a79c-4348-fb77-8716f7323e6f"
      },
      "outputs": [
        {
          "name": "stdout",
          "output_type": "stream",
          "text": []
        },
        {
          "data": {
            "text/plain": [
              "<NgrokTunnel: \"http://d6fc-34-80-180-66.ngrok.io\" -> \"http://localhost:8501\">"
            ]
          },
          "execution_count": 5,
          "metadata": {},
          "output_type": "execute_result"
        }
      ],
      "source": [
        "publ_url = ngrok.connect(addr='8501')\n",
        "publ_url"
      ]
    },
    {
      "cell_type": "code",
      "execution_count": 35,
      "metadata": {
        "colab": {
          "base_uri": "https://localhost:8080/"
        },
        "id": "Stl3MdWukKvm",
        "outputId": "02554b4c-4446-49fb-8705-38450bc62f6f"
      },
      "outputs": [
        {
          "name": "stdout",
          "output_type": "stream",
          "text": [
            "    PID TTY          TIME CMD\n",
            "      1 ?        00:00:00 docker-init\n",
            "      8 ?        00:00:06 node\n",
            "     18 ?        00:00:00 tail\n",
            "     37 ?        00:00:02 colab-fileshim.\n",
            "     62 ?        00:00:07 jupyter-noteboo\n",
            "     63 ?        00:00:05 dap_multiplexer\n",
            "     94 ?        00:00:00 python3\n",
            "    538 ?        00:00:18 python3\n",
            "    561 ?        00:00:09 python3\n",
            "    640 ?        00:00:00 bash\n",
            "    641 ?        00:00:00 drive\n",
            "    642 ?        00:00:00 grep\n",
            "    681 ?        00:00:04 drive\n",
            "    757 ?        00:00:00 bash\n",
            "    758 ?        00:00:00 tail\n",
            "    759 ?        00:00:00 python3\n",
            "   1207 ?        00:00:03 streamlit\n",
            "   1221 ?        00:00:00 ps\n"
          ]
        }
      ],
      "source": [
        "!ps"
      ]
    },
    {
      "cell_type": "code",
      "execution_count": 31,
      "metadata": {
        "colab": {
          "base_uri": "https://localhost:8080/"
        },
        "id": "0VgehW3vkqmY",
        "outputId": "f57929f8-7c5e-489e-a26f-1671e033fc47"
      },
      "outputs": [
        {
          "name": "stderr",
          "output_type": "stream",
          "text": [
            "t=2021-11-30T12:47:36+0000 lvl=warn msg=\"failed to open private leg\" id=fbb4c9ef4796 privaddr=localhost:8501 err=\"dial tcp 127.0.0.1:8501: connect: connection refused\"\n"
          ]
        }
      ],
      "source": [
        "!kill 1170"
      ]
    },
    {
      "cell_type": "markdown",
      "metadata": {},
      "source": [
        "#for opencv\n",
        "#apt install libgl1-mesa-glx"
      ]
    },
    {
      "cell_type": "code",
      "execution_count": 33,
      "metadata": {
        "id": "QZ8uR2m7kvRB"
      },
      "outputs": [],
      "source": [
        "ngrok.kill()"
      ]
    }
  ],
  "metadata": {
    "accelerator": "GPU",
    "colab": {
      "collapsed_sections": [],
      "name": "streamlit",
      "provenance": []
    },
    "kernelspec": {
      "display_name": "Python 3",
      "name": "python3"
    },
    "language_info": {
      "name": "python"
    }
  },
  "nbformat": 4,
  "nbformat_minor": 0
}
